{
 "cells": [
  {
   "cell_type": "code",
   "execution_count": 1,
   "id": "a05fbf10",
   "metadata": {},
   "outputs": [],
   "source": [
    "import numpy as np\n",
    "import matplotlib.pyplot as plt\n",
    "from scipy.optimize import curve_fit\n",
    "import math\n",
    "import pandas as pd\n",
    "\n",
    "def to_float(series):\n",
    "    return pd.to_numeric(series.str.replace(',', '.', regex=False), errors='coerce')"
   ]
  },
  {
   "cell_type": "code",
   "execution_count": 2,
   "id": "a52df22e",
   "metadata": {},
   "outputs": [],
   "source": [
    "def read_data(file_path, delimiter=\"\\t\", header=1, skiprows=[2]):\n",
    "    df = pd.read_csv(file_path, delimiter=delimiter, header=header, skiprows=skiprows)\n",
    "    # Select the second last and last columns for age and sft\n",
    "    age = df.iloc[:, -2]\n",
    "    sft = df.iloc[:, -1]\n",
    "    age_num_clean = to_float(age)\n",
    "    sft_num_clean = to_float(sft)\n",
    "    sorted_idx = np.argsort(age_num_clean)\n",
    "    age_num_sorted = age_num_clean.iloc[sorted_idx].reset_index(drop=True)\n",
    "    sft_num_sorted = sft_num_clean.iloc[sorted_idx].reset_index(drop=True)\n",
    "    return age_num_sorted, sft_num_sorted\n",
    "\n",
    "def read_calibration(file_path, delimiter=\"\\t\", header=1, skiprows=[2]):\n",
    "    df = pd.read_csv(file_path, delimiter=delimiter, header=header, skiprows=skiprows)\n",
    "    life = np.array(df.iloc[:, 0])  # Second column\n",
    "    sft_cal = np.array(df.iloc[:, 1])  # First column\n",
    "    return life, sft_cal\n",
    "\n",
    "life, sft_cal = read_calibration(r\"C:\\Arbeit\\Programme\\DST\\Dynamic-Surface-Tension\\Example Data\\Calibration.txt\")\n",
    "#plt.plot(life, sft_cal, label='Calibration')"
   ]
  },
  {
   "cell_type": "code",
   "execution_count": 3,
   "id": "406ec1e9",
   "metadata": {},
   "outputs": [
    {
     "name": "stderr",
     "output_type": "stream",
     "text": [
      "<>:1: SyntaxWarning: invalid escape sequence '\\A'\n",
      "<>:2: SyntaxWarning: invalid escape sequence '\\A'\n",
      "<>:1: SyntaxWarning: invalid escape sequence '\\A'\n",
      "<>:2: SyntaxWarning: invalid escape sequence '\\A'\n",
      "C:\\Users\\mape3\\AppData\\Local\\Temp\\ipykernel_34172\\2488372084.py:1: SyntaxWarning: invalid escape sequence '\\A'\n",
      "  age, sft = read_data(\"C:\\Arbeit\\Programme\\DST\\Dynamic-Surface-Tension\\Example Data\\C12E4_0.1g.txt\")\n",
      "C:\\Users\\mape3\\AppData\\Local\\Temp\\ipykernel_34172\\2488372084.py:2: SyntaxWarning: invalid escape sequence '\\A'\n",
      "  age1, sft1 = read_data(\"C:\\Arbeit\\Programme\\DST\\Dynamic-Surface-Tension\\Example Data\\C12E7_branched_0.1gL.txt\")\n",
      "c:\\Users\\mape3\\AppData\\Local\\Programs\\Python\\Python312\\Lib\\site-packages\\numpy\\_core\\fromnumeric.py:57: FutureWarning: The behavior of Series.argsort in the presence of NA values is deprecated. In a future version, NA values will be ordered last instead of set to -1.\n",
      "  return bound(*args, **kwds)\n"
     ]
    }
   ],
   "source": [
    "age, sft = read_data(\"C:\\Arbeit\\Programme\\DST\\Dynamic-Surface-Tension\\Example Data\\C12E4_0.1g.txt\")\n",
    "age1, sft1 = read_data(\"C:\\Arbeit\\Programme\\DST\\Dynamic-Surface-Tension\\Example Data\\C12E7_branched_0.1gL.txt\")\n",
    "#plt.plot(age, sft, label='C12E4')\n",
    "#plt.plot(age1, sft1, label='C12E7 branched')\n",
    "#plt.xscale(\"log\")"
   ]
  },
  {
   "cell_type": "code",
   "execution_count": 4,
   "id": "bf658a0f",
   "metadata": {},
   "outputs": [
    {
     "ename": "KeyboardInterrupt",
     "evalue": "",
     "output_type": "error",
     "traceback": [
      "\u001b[31m---------------------------------------------------------------------------\u001b[39m",
      "\u001b[31mKeyboardInterrupt\u001b[39m                         Traceback (most recent call last)",
      "\u001b[36mCell\u001b[39m\u001b[36m \u001b[39m\u001b[32mIn[4]\u001b[39m\u001b[32m, line 13\u001b[39m\n\u001b[32m      5\u001b[39m fit_func = create_fit_function(\n\u001b[32m      6\u001b[39m     fit_params=[\u001b[33m'\u001b[39m\u001b[33mD\u001b[39m\u001b[33m'\u001b[39m, \u001b[33m'\u001b[39m\u001b[33mkl\u001b[39m\u001b[33m'\u001b[39m],  \u001b[38;5;66;03m# Parameters to fit\u001b[39;00m\n\u001b[32m      7\u001b[39m     Cb=\u001b[32m1.0e-2\u001b[39m,               \u001b[38;5;66;03m# Fixed parameters\u001b[39;00m\n\u001b[32m      8\u001b[39m     gamma_m=\u001b[32m3.91e-6\u001b[39m,\n\u001b[32m      9\u001b[39m     isotherm=\u001b[32m2\u001b[39m\n\u001b[32m     10\u001b[39m )\n\u001b[32m     12\u001b[39m \u001b[38;5;66;03m# Fit to your data\u001b[39;00m\n\u001b[32m---> \u001b[39m\u001b[32m13\u001b[39m popt, pcov = \u001b[43mcurve_fit\u001b[49m\u001b[43m(\u001b[49m\u001b[43mfit_func\u001b[49m\u001b[43m,\u001b[49m\u001b[43m \u001b[49m\u001b[43mage\u001b[49m\u001b[43m,\u001b[49m\u001b[43m \u001b[49m\u001b[43msft\u001b[49m\u001b[43m,\u001b[49m\u001b[43m \u001b[49m\u001b[43mp0\u001b[49m\u001b[43m=\u001b[49m\u001b[43m[\u001b[49m\u001b[32;43m8.8e-10\u001b[39;49m\u001b[43m,\u001b[49m\u001b[43m \u001b[49m\u001b[32;43m2146.0\u001b[39;49m\u001b[43m]\u001b[49m\u001b[43m)\u001b[49m\n\u001b[32m     14\u001b[39m D_fit, kl_fit = popt\n",
      "\u001b[36mFile \u001b[39m\u001b[32mc:\\Users\\mape3\\AppData\\Local\\Programs\\Python\\Python312\\Lib\\site-packages\\scipy\\optimize\\_minpack_py.py:1007\u001b[39m, in \u001b[36mcurve_fit\u001b[39m\u001b[34m(f, xdata, ydata, p0, sigma, absolute_sigma, check_finite, bounds, method, jac, full_output, nan_policy, **kwargs)\u001b[39m\n\u001b[32m   1004\u001b[39m \u001b[38;5;28;01mif\u001b[39;00m ydata.size != \u001b[32m1\u001b[39m \u001b[38;5;129;01mand\u001b[39;00m n > ydata.size:\n\u001b[32m   1005\u001b[39m     \u001b[38;5;28;01mraise\u001b[39;00m \u001b[38;5;167;01mTypeError\u001b[39;00m(\u001b[33mf\u001b[39m\u001b[33m\"\u001b[39m\u001b[33mThe number of func parameters=\u001b[39m\u001b[38;5;132;01m{\u001b[39;00mn\u001b[38;5;132;01m}\u001b[39;00m\u001b[33m must not\u001b[39m\u001b[33m\"\u001b[39m\n\u001b[32m   1006\u001b[39m                     \u001b[33mf\u001b[39m\u001b[33m\"\u001b[39m\u001b[33m exceed the number of data points=\u001b[39m\u001b[38;5;132;01m{\u001b[39;00mydata.size\u001b[38;5;132;01m}\u001b[39;00m\u001b[33m\"\u001b[39m)\n\u001b[32m-> \u001b[39m\u001b[32m1007\u001b[39m res = \u001b[43mleastsq\u001b[49m\u001b[43m(\u001b[49m\u001b[43mfunc\u001b[49m\u001b[43m,\u001b[49m\u001b[43m \u001b[49m\u001b[43mp0\u001b[49m\u001b[43m,\u001b[49m\u001b[43m \u001b[49m\u001b[43mDfun\u001b[49m\u001b[43m=\u001b[49m\u001b[43mjac\u001b[49m\u001b[43m,\u001b[49m\u001b[43m \u001b[49m\u001b[43mfull_output\u001b[49m\u001b[43m=\u001b[49m\u001b[32;43m1\u001b[39;49m\u001b[43m,\u001b[49m\u001b[43m \u001b[49m\u001b[43m*\u001b[49m\u001b[43m*\u001b[49m\u001b[43mkwargs\u001b[49m\u001b[43m)\u001b[49m\n\u001b[32m   1008\u001b[39m popt, pcov, infodict, errmsg, ier = res\n\u001b[32m   1009\u001b[39m ysize = \u001b[38;5;28mlen\u001b[39m(infodict[\u001b[33m'\u001b[39m\u001b[33mfvec\u001b[39m\u001b[33m'\u001b[39m])\n",
      "\u001b[36mFile \u001b[39m\u001b[32mc:\\Users\\mape3\\AppData\\Local\\Programs\\Python\\Python312\\Lib\\site-packages\\scipy\\optimize\\_minpack_py.py:426\u001b[39m, in \u001b[36mleastsq\u001b[39m\u001b[34m(func, x0, args, Dfun, full_output, col_deriv, ftol, xtol, gtol, maxfev, epsfcn, factor, diag)\u001b[39m\n\u001b[32m    424\u001b[39m \u001b[38;5;28;01mif\u001b[39;00m \u001b[38;5;129;01mnot\u001b[39;00m \u001b[38;5;28misinstance\u001b[39m(args, \u001b[38;5;28mtuple\u001b[39m):\n\u001b[32m    425\u001b[39m     args = (args,)\n\u001b[32m--> \u001b[39m\u001b[32m426\u001b[39m shape, dtype = \u001b[43m_check_func\u001b[49m\u001b[43m(\u001b[49m\u001b[33;43m'\u001b[39;49m\u001b[33;43mleastsq\u001b[39;49m\u001b[33;43m'\u001b[39;49m\u001b[43m,\u001b[49m\u001b[43m \u001b[49m\u001b[33;43m'\u001b[39;49m\u001b[33;43mfunc\u001b[39;49m\u001b[33;43m'\u001b[39;49m\u001b[43m,\u001b[49m\u001b[43m \u001b[49m\u001b[43mfunc\u001b[49m\u001b[43m,\u001b[49m\u001b[43m \u001b[49m\u001b[43mx0\u001b[49m\u001b[43m,\u001b[49m\u001b[43m \u001b[49m\u001b[43margs\u001b[49m\u001b[43m,\u001b[49m\u001b[43m \u001b[49m\u001b[43mn\u001b[49m\u001b[43m)\u001b[49m\n\u001b[32m    427\u001b[39m m = shape[\u001b[32m0\u001b[39m]\n\u001b[32m    429\u001b[39m \u001b[38;5;28;01mif\u001b[39;00m n > m:\n",
      "\u001b[36mFile \u001b[39m\u001b[32mc:\\Users\\mape3\\AppData\\Local\\Programs\\Python\\Python312\\Lib\\site-packages\\scipy\\optimize\\_minpack_py.py:23\u001b[39m, in \u001b[36m_check_func\u001b[39m\u001b[34m(checker, argname, thefunc, x0, args, numinputs, output_shape)\u001b[39m\n\u001b[32m     21\u001b[39m \u001b[38;5;28;01mdef\u001b[39;00m \u001b[34m_check_func\u001b[39m(checker, argname, thefunc, x0, args, numinputs,\n\u001b[32m     22\u001b[39m                 output_shape=\u001b[38;5;28;01mNone\u001b[39;00m):\n\u001b[32m---> \u001b[39m\u001b[32m23\u001b[39m     res = atleast_1d(\u001b[43mthefunc\u001b[49m\u001b[43m(\u001b[49m\u001b[43m*\u001b[49m\u001b[43m(\u001b[49m\u001b[43m(\u001b[49m\u001b[43mx0\u001b[49m\u001b[43m[\u001b[49m\u001b[43m:\u001b[49m\u001b[43mnuminputs\u001b[49m\u001b[43m]\u001b[49m\u001b[43m,\u001b[49m\u001b[43m)\u001b[49m\u001b[43m \u001b[49m\u001b[43m+\u001b[49m\u001b[43m \u001b[49m\u001b[43margs\u001b[49m\u001b[43m)\u001b[49m\u001b[43m)\u001b[49m)\n\u001b[32m     24\u001b[39m     \u001b[38;5;28;01mif\u001b[39;00m (output_shape \u001b[38;5;129;01mis\u001b[39;00m \u001b[38;5;129;01mnot\u001b[39;00m \u001b[38;5;28;01mNone\u001b[39;00m) \u001b[38;5;129;01mand\u001b[39;00m (shape(res) != output_shape):\n\u001b[32m     25\u001b[39m         \u001b[38;5;28;01mif\u001b[39;00m (output_shape[\u001b[32m0\u001b[39m] != \u001b[32m1\u001b[39m):\n",
      "\u001b[36mFile \u001b[39m\u001b[32mc:\\Users\\mape3\\AppData\\Local\\Programs\\Python\\Python312\\Lib\\site-packages\\scipy\\optimize\\_minpack_py.py:524\u001b[39m, in \u001b[36m_lightweight_memoizer.<locals>._memoized_func\u001b[39m\u001b[34m(params)\u001b[39m\n\u001b[32m    521\u001b[39m \u001b[38;5;28;01melif\u001b[39;00m _memoized_func.last_params \u001b[38;5;129;01mis\u001b[39;00m \u001b[38;5;129;01mnot\u001b[39;00m \u001b[38;5;28;01mNone\u001b[39;00m:\n\u001b[32m    522\u001b[39m     _memoized_func.skip_lookup = \u001b[38;5;28;01mTrue\u001b[39;00m\n\u001b[32m--> \u001b[39m\u001b[32m524\u001b[39m val = \u001b[43mf\u001b[49m\u001b[43m(\u001b[49m\u001b[43mparams\u001b[49m\u001b[43m)\u001b[49m\n\u001b[32m    526\u001b[39m \u001b[38;5;28;01mif\u001b[39;00m _memoized_func.last_params \u001b[38;5;129;01mis\u001b[39;00m \u001b[38;5;28;01mNone\u001b[39;00m:\n\u001b[32m    527\u001b[39m     _memoized_func.last_params = np.copy(params)\n",
      "\u001b[36mFile \u001b[39m\u001b[32mc:\\Users\\mape3\\AppData\\Local\\Programs\\Python\\Python312\\Lib\\site-packages\\scipy\\optimize\\_minpack_py.py:541\u001b[39m, in \u001b[36m_wrap_func.<locals>.func_wrapped\u001b[39m\u001b[34m(params)\u001b[39m\n\u001b[32m    540\u001b[39m \u001b[38;5;28;01mdef\u001b[39;00m \u001b[34mfunc_wrapped\u001b[39m(params):\n\u001b[32m--> \u001b[39m\u001b[32m541\u001b[39m     \u001b[38;5;28;01mreturn\u001b[39;00m \u001b[43mfunc\u001b[49m\u001b[43m(\u001b[49m\u001b[43mxdata\u001b[49m\u001b[43m,\u001b[49m\u001b[43m \u001b[49m\u001b[43m*\u001b[49m\u001b[43mparams\u001b[49m\u001b[43m)\u001b[49m - ydata\n",
      "\u001b[36mFile \u001b[39m\u001b[32mc:\\Arbeit\\Programme\\DST\\Dynamic-Surface-Tension\\ward_tordai_wrapper.py:324\u001b[39m, in \u001b[36mcreate_fit_function.<locals>.fit_function\u001b[39m\u001b[34m(t, *param_values)\u001b[39m\n\u001b[32m    321\u001b[39m \u001b[38;5;28;01mfor\u001b[39;00m name, value \u001b[38;5;129;01min\u001b[39;00m \u001b[38;5;28mzip\u001b[39m(fit_params, param_values):\n\u001b[32m    322\u001b[39m     all_params[name] = value\n\u001b[32m--> \u001b[39m\u001b[32m324\u001b[39m \u001b[38;5;28;01mreturn\u001b[39;00m \u001b[43mward_tordai_model\u001b[49m\u001b[43m(\u001b[49m\u001b[43mt\u001b[49m\u001b[43m,\u001b[49m\u001b[43m \u001b[49m\u001b[43m*\u001b[49m\u001b[43m*\u001b[49m\u001b[43mall_params\u001b[49m\u001b[43m)\u001b[49m\n",
      "\u001b[36mFile \u001b[39m\u001b[32mc:\\Arbeit\\Programme\\DST\\Dynamic-Surface-Tension\\ward_tordai_wrapper.py:204\u001b[39m, in \u001b[36mward_tordai_model\u001b[39m\u001b[34m(t, D, kl, kh, kf, kfl, kv, A, knl, Cb, rb, Tmpr, gamma_0, gamma_m, nn, isotherm, geometry, h, err, M)\u001b[39m\n\u001b[32m    202\u001b[39m \u001b[38;5;66;03m# Run Ward-Tordai simulation\u001b[39;00m\n\u001b[32m    203\u001b[39m \u001b[38;5;28;01mtry\u001b[39;00m:\n\u001b[32m--> \u001b[39m\u001b[32m204\u001b[39m     t_sim, gamma_sim, st_sim, acc = \u001b[43mward_tordai\u001b[49m\u001b[43m(\u001b[49m\u001b[43mparams\u001b[49m\u001b[43m)\u001b[49m\n\u001b[32m    206\u001b[39m     \u001b[38;5;28;01mif\u001b[39;00m \u001b[38;5;129;01mnot\u001b[39;00m acc:\n\u001b[32m    207\u001b[39m         \u001b[38;5;28;01mimport\u001b[39;00m \u001b[34;01mwarnings\u001b[39;00m\n",
      "\u001b[36mFile \u001b[39m\u001b[32mc:\\Arbeit\\Programme\\DST\\Dynamic-Surface-Tension\\Ward_Tordai_Fit.py:208\u001b[39m, in \u001b[36mward_tordai\u001b[39m\u001b[34m(p)\u001b[39m\n\u001b[32m    206\u001b[39m ssum = \u001b[32m0.0\u001b[39m\n\u001b[32m    207\u001b[39m \u001b[38;5;28;01mfor\u001b[39;00m j \u001b[38;5;129;01min\u001b[39;00m \u001b[38;5;28mrange\u001b[39m(\u001b[32m1\u001b[39m, n):\n\u001b[32m--> \u001b[39m\u001b[32m208\u001b[39m     ssum += \u001b[43mK\u001b[49m\u001b[43m(\u001b[49m\u001b[43mt\u001b[49m\u001b[43m[\u001b[49m\u001b[43mn\u001b[49m\u001b[43m]\u001b[49m\u001b[43m,\u001b[49m\u001b[43m \u001b[49m\u001b[43mt\u001b[49m\u001b[43m[\u001b[49m\u001b[43mj\u001b[49m\u001b[43m]\u001b[49m\u001b[43m,\u001b[49m\u001b[43m \u001b[49m\u001b[43mgamma\u001b[49m\u001b[43m[\u001b[49m\u001b[43mj\u001b[49m\u001b[43m]\u001b[49m\u001b[43m,\u001b[49m\u001b[43m \u001b[49m\u001b[43mp\u001b[49m\u001b[43m)\u001b[49m\n\u001b[32m    210\u001b[39m x = geom(p.geometry, t[n], p) + p.h * ssum\n\u001b[32m    211\u001b[39m root, ok = rtbis(t[n], gamma[n - \u001b[32m1\u001b[39m], x, p)\n",
      "\u001b[36mFile \u001b[39m\u001b[32mc:\\Arbeit\\Programme\\DST\\Dynamic-Surface-Tension\\Ward_Tordai_Fit.py:131\u001b[39m, in \u001b[36mK\u001b[39m\u001b[34m(t, tau, gamma, p)\u001b[39m\n\u001b[32m    127\u001b[39m     \u001b[38;5;28;01melse\u001b[39;00m:\n\u001b[32m    128\u001b[39m         \u001b[38;5;28;01mraise\u001b[39;00m \u001b[38;5;167;01mValueError\u001b[39;00m(\u001b[33m\"\u001b[39m\u001b[33mIsotherm must be 1..5\u001b[39m\u001b[33m\"\u001b[39m)\n\u001b[32m--> \u001b[39m\u001b[32m131\u001b[39m \u001b[38;5;28;01mdef\u001b[39;00m \u001b[34mK\u001b[39m(t: \u001b[38;5;28mfloat\u001b[39m, tau: \u001b[38;5;28mfloat\u001b[39m, gamma: \u001b[38;5;28mfloat\u001b[39m, p: WardTordaiParams) -> \u001b[38;5;28mfloat\u001b[39m:\n\u001b[32m    132\u001b[39m \u001b[38;5;250m    \u001b[39m\u001b[33;03m\"\"\"Kernel function for Ward-Tordai integral\"\"\"\u001b[39;00m\n\u001b[32m    133\u001b[39m     \u001b[38;5;28;01mif\u001b[39;00m t <= tau:\n",
      "\u001b[31mKeyboardInterrupt\u001b[39m: "
     ]
    }
   ],
   "source": [
    "from scipy.optimize import curve_fit\n",
    "from ward_tordai_wrapper import create_fit_function\n",
    "\n",
    "# Create fit function\n",
    "fit_func = create_fit_function(\n",
    "    fit_params=['D', 'kl'],  # Parameters to fit\n",
    "    Cb=1.0e-2,               # Fixed parameters\n",
    "    gamma_m=3.91e-6,\n",
    "    isotherm=2\n",
    ")\n",
    "\n",
    "# Fit to your data\n",
    "popt, pcov = curve_fit(fit_func, age, sft, p0=[8.8e-10, 2146.0])\n",
    "D_fit, kl_fit = popt"
   ]
  }
 ],
 "metadata": {
  "kernelspec": {
   "display_name": "Python 3",
   "language": "python",
   "name": "python3"
  },
  "language_info": {
   "codemirror_mode": {
    "name": "ipython",
    "version": 3
   },
   "file_extension": ".py",
   "mimetype": "text/x-python",
   "name": "python",
   "nbconvert_exporter": "python",
   "pygments_lexer": "ipython3",
   "version": "3.12.6"
  }
 },
 "nbformat": 4,
 "nbformat_minor": 5
}
