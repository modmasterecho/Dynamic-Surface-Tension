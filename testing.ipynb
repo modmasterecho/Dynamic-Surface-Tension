{
 "cells": [
  {
   "cell_type": "markdown",
   "metadata": {},
   "source": [
    "# Ward-Tordai Model Testing Notebook\n",
    "\n",
    "This notebook is used for testing the Ward-Tordai model implementation and the plotting/fitting functionality."
   ]
  },
  {
   "cell_type": "code",
   "execution_count": 17,
   "metadata": {},
   "outputs": [],
   "source": [
    "# Import required modules\n",
    "import numpy as np\n",
    "import matplotlib.pyplot as plt\n",
    "import Ward_Tordai as wt\n",
    "import plotting_and_fitting as pf\n",
    "import pandas as pd\n",
    "from scipy.optimize import curve_fit\n",
    "\n",
    "%matplotlib inline"
   ]
  },
  {
   "cell_type": "markdown",
   "metadata": {},
   "source": [
    "## Generate Sample Data\n",
    "\n",
    "Generate synthetic surface tension data for testing purposes."
   ]
  },
  {
   "cell_type": "code",
   "execution_count": null,
   "metadata": {},
   "outputs": [],
   "source": [
    "# Generate sample time data (in seconds)\n",
    "time = np.linspace(0.1, 100, 50)\n",
    "\n",
    "# Generate sample surface tension data (in mN/m)\n",
    "# Simulating a typical dynamic surface tension curve\n",
    "gamma_0 = 72.0  # Initial surface tension (water)\n",
    "gamma_eq = 40.0  # Equilibrium surface tension\n",
    "k = 0.1  # Rate constant\n",
    "\n",
    "surface_tension = gamma_eq + (gamma_0 - gamma_eq) * np.exp(-k * np.sqrt(time))\n",
    "\n",
    "# Add some noise to make it realistic\n",
    "noise = np.random.normal(0, 0.5, len(time))\n",
    "surface_tension_noisy = surface_tension + noise\n",
    "\n",
    "print(f\"Time range: {time[0]:.2f} - {time[-1]:.2f} s\")\n",
    "print(f\"Surface tension range: {surface_tension_noisy.min():.2f} - {surface_tension_noisy.max():.2f} mN/m\")"
   ]
  },
  {
   "cell_type": "markdown",
   "metadata": {},
   "source": [
    "## Plot Sample Data\n",
    "\n",
    "Visualize the generated data using the plotting functions."
   ]
  },
  {
   "cell_type": "code",
   "execution_count": null,
   "metadata": {},
   "outputs": [],
   "source": [
    "# Plot the sample data\n",
    "pf.plot_surface_tension_vs_time(time, surface_tension_noisy, \n",
    "                                 title=\"Sample Dynamic Surface Tension Data\")"
   ]
  },
  {
   "cell_type": "markdown",
   "metadata": {},
   "source": [
    "## Test Model Fitting\n",
    "\n",
    "Fit a model to the data and visualize the results."
   ]
  },
  {
   "cell_type": "code",
   "execution_count": null,
   "metadata": {},
   "outputs": [],
   "source": [
    "# Define a simple model function\n",
    "def simple_model(t, gamma_eq, gamma_0, k):\n",
    "    return gamma_eq + (gamma_0 - gamma_eq) * np.exp(-k * np.sqrt(t))\n",
    "\n",
    "# Initial parameter guesses\n",
    "initial_params = [45.0, 70.0, 0.05]\n",
    "\n",
    "# Fit the model\n",
    "popt, pcov = pf.fit_model(time, surface_tension_noisy, simple_model, initial_params)\n",
    "\n",
    "print(f\"Fitted parameters:\")\n",
    "print(f\"  gamma_eq = {popt[0]:.2f} mN/m\")\n",
    "print(f\"  gamma_0 = {popt[1]:.2f} mN/m\")\n",
    "print(f\"  k = {popt[2]:.4f}\")\n",
    "\n",
    "# Generate fitted data\n",
    "fitted_surface_tension = simple_model(time, *popt)"
   ]
  },
  {
   "cell_type": "markdown",
   "metadata": {},
   "source": [
    "## Visualize Fit Results"
   ]
  },
  {
   "cell_type": "code",
   "execution_count": null,
   "metadata": {},
   "outputs": [],
   "source": [
    "# Plot data with fit\n",
    "pf.plot_data_with_fit(time, surface_tension_noisy, fitted_surface_tension,\n",
    "                      title=\"Dynamic Surface Tension with Model Fit\")"
   ]
  },
  {
   "cell_type": "markdown",
   "metadata": {},
   "source": [
    "## Analyze Residuals"
   ]
  },
  {
   "cell_type": "code",
   "execution_count": null,
   "metadata": {},
   "outputs": [],
   "source": [
    "# Plot residuals\n",
    "pf.residual_plot(time, surface_tension_noisy, fitted_surface_tension)"
   ]
  },
  {
   "cell_type": "markdown",
   "metadata": {},
   "source": [
    "## Plot raw data and plot calibration data, save fit parameters"
   ]
  },
  {
   "cell_type": "code",
   "execution_count": null,
   "metadata": {},
   "outputs": [
    {
     "name": "stderr",
     "output_type": "stream",
     "text": [
      "<>:4: SyntaxWarning: invalid escape sequence '\\C'\n",
      "<>:4: SyntaxWarning: invalid escape sequence '\\C'\n",
      "C:\\Users\\mape3\\AppData\\Local\\Temp\\ipykernel_16876\\2342658633.py:4: SyntaxWarning: invalid escape sequence '\\C'\n",
      "  calibration=pd.read_csv(\"Example Data\\Calibration.csv\", delimiter=\",\")\n"
     ]
    },
    {
     "data": {
      "text/plain": [
       "Text(0.5, 0, 'Bubble life time [ms]')"
      ]
     },
     "execution_count": 21,
     "metadata": {},
     "output_type": "execute_result"
    },
    {
     "data": {
      "image/png": "[encoded data removed]",
      "text/plain": [
       "<Figure size 640x480 with 1 Axes>"
      ]
     },
     "metadata": {},
     "output_type": "display_data"
    }
   ],
   "source": [
    "# Import data from txt file\n",
    "import json\n",
    "\n",
    "calibration=pd.read_csv(\"Example Data\\Calibration.csv\", delimiter=\",\")\n",
    "\n",
    "# Extract JSON metadata from column headers\n",
    "calibrationmeta = {}\n",
    "for col in calibration.columns:\n",
    "    if '#' in col:\n",
    "        # Split the column name at the '#' character\n",
    "        col_name, json_data = col.split('#', 1)\n",
    "        # Store the JSON data\n",
    "        calibrationmeta[col_name] = json_data\n",
    "        # Rename the column to remove JSON metadata\n",
    "        calibration.rename(columns={col: col_name}, inplace=True)\n",
    "\n",
    "lifetime=np.array(calibration[\"bubble life time[ms]2\"])\n",
    "\n",
    "# Plot calibration data\n",
    "plt.plot(calibration[\"bubble life time[ms]2\"], calibration[\"SFT\"], 'o')\n",
    "plt.xscale('log')\n",
    "\n",
    "#create exponential fit function\n",
    "def expfit(x, a, b, c):\n",
    "    return a * np.exp(-b * x) + c\n",
    "#fit the data\n",
    "popt, pcov = curve_fit(expfit, calibration[\"bubble life time[ms]2\"], calibration[\"exp\"], p0=(30, 0.001, 40))\n",
    "plt.plot(calibration[\"bubble life time[ms]2\"], expfit(calibration[\"bubble life time[ms]2\"], *popt), '-', label='fit: a=%5.3f, b=%5.3f, c=%5.3f' % tuple(popt))\n",
    "plt.xlabel('Bubble life time [ms]')"
   ]
  },
  {
   "cell_type": "markdown",
   "metadata": {},
   "source": [
    "## Notes\n",
    "\n",
    "- Add more test cases as needed\n",
    "- Test with real experimental data when available\n",
    "- Validate numerical integration methods"
   ]
  }
 ],
 "metadata": {
  "kernelspec": {
   "display_name": "Python 3",
   "language": "python",
   "name": "python3"
  },
  "language_info": {
   "codemirror_mode": {
    "name": "ipython",
    "version": 3
   },
   "file_extension": ".py",
   "mimetype": "text/x-python",
   "name": "python",
   "nbconvert_exporter": "python",
   "pygments_lexer": "ipython3",
   "version": "3.12.6"
  }
 },
 "nbformat": 4,
 "nbformat_minor": 4
}
